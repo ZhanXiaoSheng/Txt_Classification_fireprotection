{
 "cells": [
  {
   "cell_type": "code",
   "execution_count": 1,
   "metadata": {
    "ExecuteTime": {
     "end_time": "2019-05-24T08:07:02.895959Z",
     "start_time": "2019-05-24T08:06:57.617007Z"
    }
   },
   "outputs": [
    {
     "name": "stderr",
     "output_type": "stream",
     "text": [
      "Using TensorFlow backend.\n"
     ]
    }
   ],
   "source": [
    "from keras.layers import Input\n",
    "from keras.optimizers import SGD,Adam,RMSprop\n",
    "from keras.layers import Bidirectional\n",
    "import pandas as pd\n",
    "import numpy as np\n",
    "import keras\n",
    "from keras.preprocessing.text import Tokenizer\n",
    "from keras.preprocessing.sequence import pad_sequences\n",
    "tokenizer=Tokenizer()"
   ]
  },
  {
   "cell_type": "code",
   "execution_count": 2,
   "metadata": {
    "ExecuteTime": {
     "end_time": "2019-05-24T08:07:14.857058Z",
     "start_time": "2019-05-24T08:07:04.945777Z"
    }
   },
   "outputs": [],
   "source": [
    "corpus=[]\n",
    "for line in open('data2.txt','r').readlines():\n",
    "    corpus.append(line.strip())\n",
    "\n",
    "tokenizer.fit_on_texts(corpus)\n",
    "sequences=tokenizer.texts_to_sequences(corpus)\n",
    "\n",
    "data_oh=pad_sequences(sequences=sequences,maxlen=50,padding='post')   #最大长度为50，以post的方式补全\n",
    "\n",
    "#导入数据，对案件类型分类\n",
    "filepath='C:/Users/zhangsheng/Desktop/DSjjcl/version2/new_all_df.csv'    #原始数据 \n",
    "all_df=pd.read_csv(filepath,encoding='gb18030')\n",
    "\n",
    "from sklearn.preprocessing import LabelEncoder,OneHotEncoder\n",
    "labEn=LabelEncoder()\n",
    "\n",
    "all_df['案件类型']=labEn.fit_transform(all_df['案件类型'])\n",
    "new_df=all_df[['案件类型']]\n",
    "\n",
    "all_labels=new_df.values"
   ]
  },
  {
   "cell_type": "code",
   "execution_count": 3,
   "metadata": {
    "ExecuteTime": {
     "end_time": "2019-05-24T08:07:16.717984Z",
     "start_time": "2019-05-24T08:07:16.709988Z"
    }
   },
   "outputs": [],
   "source": [
    "word_index=tokenizer.word_index\n",
    "Embedding_dim=200\n",
    "max_length=50"
   ]
  },
  {
   "cell_type": "code",
   "execution_count": 4,
   "metadata": {
    "ExecuteTime": {
     "end_time": "2019-05-24T08:07:19.437413Z",
     "start_time": "2019-05-24T08:07:19.363457Z"
    }
   },
   "outputs": [],
   "source": [
    "from keras.utils import to_categorical\n",
    "\n",
    "labels=to_categorical(all_labels)"
   ]
  },
  {
   "cell_type": "code",
   "execution_count": 5,
   "metadata": {
    "ExecuteTime": {
     "end_time": "2019-05-24T08:07:21.387289Z",
     "start_time": "2019-05-24T08:07:21.323326Z"
    }
   },
   "outputs": [],
   "source": [
    "#分割数据  8:2的比例  随机\n",
    "msk=np.random.rand(len(new_df))<0.8\n",
    "train=new_df[msk]\n",
    "test=new_df[~msk]\n",
    "\n",
    "index=train.index\n",
    "x_train=data_oh[index][0:40000]\n",
    "x_val=data_oh[index][40000:]\n",
    "\n",
    "# y_train=train.values[0:40000]\n",
    "# y_val=train.values[40000:]\n",
    "y_train=labels[index][0:40000]\n",
    "y_val=labels[index][40000:]\n",
    "\n",
    "test_index = test.index\n",
    "x_test = data_oh[test_index]\n",
    "y_test=labels[test_index]"
   ]
  },
  {
   "cell_type": "code",
   "execution_count": 9,
   "metadata": {
    "ExecuteTime": {
     "end_time": "2019-05-24T08:08:18.040596Z",
     "start_time": "2019-05-24T08:08:18.029603Z"
    }
   },
   "outputs": [],
   "source": [
    "from keras.layers import Dense,Input,Flatten,Dropout,LSTM,Embedding\n",
    "from keras.models import Sequential\n",
    "from keras import regularizers\n",
    "from keras.layers import Conv1D,MaxPool1D"
   ]
  },
  {
   "cell_type": "code",
   "execution_count": 9,
   "metadata": {
    "ExecuteTime": {
     "end_time": "2019-05-23T06:05:52.062665Z",
     "start_time": "2019-05-23T05:56:06.524039Z"
    }
   },
   "outputs": [
    {
     "name": "stdout",
     "output_type": "stream",
     "text": [
      "_________________________________________________________________\n",
      "Layer (type)                 Output Shape              Param #   \n",
      "=================================================================\n",
      "embedding_3 (Embedding)      (None, 50, 200)           3023000   \n",
      "_________________________________________________________________\n",
      "dropout_3 (Dropout)          (None, 50, 200)           0         \n",
      "_________________________________________________________________\n",
      "conv1d_3 (Conv1D)            (None, 48, 64)            38464     \n",
      "_________________________________________________________________\n",
      "max_pooling1d_3 (MaxPooling1 (None, 16, 64)            0         \n",
      "_________________________________________________________________\n",
      "flatten_3 (Flatten)          (None, 1024)              0         \n",
      "_________________________________________________________________\n",
      "dense_5 (Dense)              (None, 200)               205000    \n",
      "_________________________________________________________________\n",
      "dense_6 (Dense)              (None, 3)                 603       \n",
      "=================================================================\n",
      "Total params: 3,267,067\n",
      "Trainable params: 3,267,067\n",
      "Non-trainable params: 0\n",
      "_________________________________________________________________\n",
      "Train on 40000 samples, validate on 14934 samples\n",
      "Epoch 1/10\n",
      "40000/40000 [==============================] - 59s 1ms/step - loss: 0.2223 - acc: 0.9197 - val_loss: 0.1202 - val_acc: 0.9671\n",
      "Epoch 2/10\n",
      "40000/40000 [==============================] - 57s 1ms/step - loss: 0.1125 - acc: 0.9650 - val_loss: 0.1204 - val_acc: 0.9659\n",
      "Epoch 3/10\n",
      "40000/40000 [==============================] - 57s 1ms/step - loss: 0.0971 - acc: 0.9710 - val_loss: 0.1186 - val_acc: 0.9667\n",
      "Epoch 4/10\n",
      "40000/40000 [==============================] - 57s 1ms/step - loss: 0.0849 - acc: 0.9745 - val_loss: 0.1221 - val_acc: 0.9627\n",
      "Epoch 5/10\n",
      "40000/40000 [==============================] - 60s 1ms/step - loss: 0.0722 - acc: 0.9788 - val_loss: 0.1333 - val_acc: 0.9624\n",
      "Epoch 6/10\n",
      "40000/40000 [==============================] - 57s 1ms/step - loss: 0.0612 - acc: 0.9819 - val_loss: 0.1498 - val_acc: 0.9583\n",
      "Epoch 7/10\n",
      "40000/40000 [==============================] - 57s 1ms/step - loss: 0.0525 - acc: 0.9843 - val_loss: 0.1631 - val_acc: 0.9609\n",
      "Epoch 8/10\n",
      "40000/40000 [==============================] - 58s 1ms/step - loss: 0.0460 - acc: 0.9863 - val_loss: 0.1775 - val_acc: 0.9558\n",
      "Epoch 9/10\n",
      "40000/40000 [==============================] - 63s 2ms/step - loss: 0.0405 - acc: 0.9882 - val_loss: 0.2012 - val_acc: 0.9525\n",
      "Epoch 10/10\n",
      "40000/40000 [==============================] - 61s 2ms/step - loss: 0.0375 - acc: 0.9893 - val_loss: 0.2137 - val_acc: 0.9535\n"
     ]
    },
    {
     "data": {
      "text/plain": [
       "<keras.callbacks.History at 0x2308e2620b8>"
      ]
     },
     "execution_count": 9,
     "metadata": {},
     "output_type": "execute_result"
    }
   ],
   "source": [
    "#CNN\n",
    "from keras.layers import Conv1D,MaxPool1D\n",
    "CNN_model=Sequential()\n",
    "CNN_model.add(Embedding(input_dim=len(word_index)+1,output_dim=200,input_length=50))\n",
    "CNN_model.add(Dropout(0.2))\n",
    "CNN_model.add(Conv1D(64,3,padding='valid',activation='relu',strides=1))\n",
    "CNN_model.add(MaxPool1D(3))\n",
    "CNN_model.add(Flatten())\n",
    "CNN_model.add(Dense(Embedding_dim,activation='relu'))\n",
    "CNN_model.add(Dense(3,activation='softmax'))\n",
    "CNN_model.summary()\n",
    "\n",
    "CNN_model.compile(loss='categorical_crossentropy',optimizer=RMSprop(),metrics=[\"accuracy\"])\n",
    "CNN_model.fit(x_train,y_train,validation_data=[x_val,y_val],epochs=10,batch_size=128)"
   ]
  },
  {
   "cell_type": "code",
   "execution_count": 14,
   "metadata": {
    "ExecuteTime": {
     "end_time": "2019-05-22T01:47:45.493924Z",
     "start_time": "2019-05-22T01:47:43.927828Z"
    }
   },
   "outputs": [],
   "source": [
    "CNN_predict=CNN_model.predict(x_test)"
   ]
  },
  {
   "cell_type": "code",
   "execution_count": 12,
   "metadata": {
    "ExecuteTime": {
     "end_time": "2019-05-24T08:16:01.917420Z",
     "start_time": "2019-05-24T08:16:01.206830Z"
    }
   },
   "outputs": [],
   "source": [
    "import matplotlib.pyplot as plt\n",
    "import seaborn as sns\n",
    "from sklearn import metrics"
   ]
  },
  {
   "cell_type": "code",
   "execution_count": 17,
   "metadata": {
    "ExecuteTime": {
     "end_time": "2019-05-22T01:50:18.973738Z",
     "start_time": "2019-05-22T01:50:18.590958Z"
    }
   },
   "outputs": [
    {
     "data": {
      "image/png": "[encoded data removed]",
      "text/plain": [
       "<Figure size 720x720 with 1 Axes>"
      ]
     },
     "metadata": {
      "needs_background": "light"
     },
     "output_type": "display_data"
    }
   ],
   "source": [
    "# CNN混淆矩阵\n",
    "confm = metrics.confusion_matrix(\n",
    "    np.argmax(CNN_predict, axis=1), np.argmax(y_test, axis=1))\n",
    "LabName = ['火灾', '抢险救援', '社会救助']\n",
    "plt.figure(figsize=(10, 10))\n",
    "sns.heatmap(confm.T, square=True, annot=True, fmt='d',\n",
    "            cbar=False, linewidths=.8, cmap='YlGnBu')\n",
    "plt.xlabel('True Lable', size=14)\n",
    "plt.ylabel('Predicted Lable', size=14)\n",
    "plt.xticks(np.arange(3)+0.5, LabName, size=14)\n",
    "plt.yticks(np.arange(3)+0.5, LabName, size=14)\n",
    "plt.show()"
   ]
  },
  {
   "cell_type": "code",
   "execution_count": 18,
   "metadata": {
    "ExecuteTime": {
     "end_time": "2019-05-22T01:51:06.439740Z",
     "start_time": "2019-05-22T01:51:06.399746Z"
    }
   },
   "outputs": [
    {
     "name": "stdout",
     "output_type": "stream",
     "text": [
      "              precision    recall  f1-score   support\n",
      "\n",
      "           0       0.98      0.98      0.98      6468\n",
      "           1       0.91      0.90      0.90      3240\n",
      "           2       0.93      0.94      0.93      4171\n",
      "\n",
      "   micro avg       0.95      0.95      0.95     13879\n",
      "   macro avg       0.94      0.94      0.94     13879\n",
      "weighted avg       0.95      0.95      0.95     13879\n",
      "\n"
     ]
    }
   ],
   "source": [
    "#召回率\n",
    "print(metrics.classification_report(np.argmax(CNN_predict,axis=1),np.argmax(y_test,axis=1)))"
   ]
  },
  {
   "cell_type": "code",
   "execution_count": null,
   "metadata": {},
   "outputs": [],
   "source": []
  },
  {
   "cell_type": "code",
   "execution_count": null,
   "metadata": {},
   "outputs": [],
   "source": []
  },
  {
   "cell_type": "code",
   "execution_count": null,
   "metadata": {},
   "outputs": [],
   "source": []
  },
  {
   "cell_type": "code",
   "execution_count": 7,
   "metadata": {
    "ExecuteTime": {
     "end_time": "2019-05-24T08:07:50.839293Z",
     "start_time": "2019-05-24T08:07:42.922862Z"
    }
   },
   "outputs": [
    {
     "name": "stderr",
     "output_type": "stream",
     "text": [
      "d:\\python3.6\\lib\\site-packages\\gensim\\utils.py:1212: UserWarning: detected Windows; aliasing chunkize to chunkize_serial\n",
      "  warnings.warn(\"detected Windows; aliasing chunkize to chunkize_serial\")\n",
      "d:\\python3.6\\lib\\site-packages\\ipykernel_launcher.py:9: DeprecationWarning: Call to deprecated `__contains__` (Method will be removed in 4.0.0, use self.wv.__contains__() instead).\n",
      "  if __name__ == '__main__':\n",
      "d:\\python3.6\\lib\\site-packages\\ipykernel_launcher.py:10: DeprecationWarning: Call to deprecated `__getitem__` (Method will be removed in 4.0.0, use self.wv.__getitem__() instead).\n",
      "  # Remove the CWD from sys.path while we load stuff.\n"
     ]
    }
   ],
   "source": [
    "##word2vec\n",
    "###载入预训练好的word2vec模型，并使用该模型替代Embedding层\n",
    "import gensim\n",
    "from gensim.models import Word2Vec\n",
    "\n",
    "w2v_model=Word2Vec.load('word2vec.model')\n",
    "embedding_matrix=np.zeros((len(word_index)+1,Embedding_dim))\n",
    "for word,i in word_index.items():\n",
    "    if word in w2v_model:\n",
    "        embedding_matrix[i]=np.asarray(w2v_model[word],\n",
    "                                      dtype='float32')\n",
    "embedding_layer=Embedding(len(word_index)+1,\n",
    "                         Embedding_dim,   #输出维度应该=预训练的size大小\n",
    "                         weights=[embedding_matrix],\n",
    "                         input_length=max_length,\n",
    "                         trainable=False)"
   ]
  },
  {
   "cell_type": "code",
   "execution_count": 10,
   "metadata": {
    "ExecuteTime": {
     "end_time": "2019-05-24T08:13:55.350457Z",
     "start_time": "2019-05-24T08:08:26.260852Z"
    }
   },
   "outputs": [
    {
     "name": "stdout",
     "output_type": "stream",
     "text": [
      "_________________________________________________________________\n",
      "Layer (type)                 Output Shape              Param #   \n",
      "=================================================================\n",
      "embedding_1 (Embedding)      (None, 50, 200)           3023000   \n",
      "_________________________________________________________________\n",
      "dropout_2 (Dropout)          (None, 50, 200)           0         \n",
      "_________________________________________________________________\n",
      "conv1d_1 (Conv1D)            (None, 48, 64)            38464     \n",
      "_________________________________________________________________\n",
      "max_pooling1d_1 (MaxPooling1 (None, 16, 64)            0         \n",
      "_________________________________________________________________\n",
      "flatten_1 (Flatten)          (None, 1024)              0         \n",
      "_________________________________________________________________\n",
      "dense_1 (Dense)              (None, 200)               205000    \n",
      "_________________________________________________________________\n",
      "dense_2 (Dense)              (None, 3)                 603       \n",
      "=================================================================\n",
      "Total params: 3,267,067\n",
      "Trainable params: 244,067\n",
      "Non-trainable params: 3,023,000\n",
      "_________________________________________________________________\n",
      "WARNING:tensorflow:From d:\\python3.6\\lib\\site-packages\\tensorflow\\python\\ops\\math_ops.py:3066: to_int32 (from tensorflow.python.ops.math_ops) is deprecated and will be removed in a future version.\n",
      "Instructions for updating:\n",
      "Use tf.cast instead.\n",
      "Train on 40000 samples, validate on 15013 samples\n",
      "Epoch 1/10\n",
      "40000/40000 [==============================] - 33s 817us/step - loss: 0.2325 - acc: 0.9173 - val_loss: 0.1695 - val_acc: 0.9403\n",
      "Epoch 2/10\n",
      "40000/40000 [==============================] - 33s 817us/step - loss: 0.1763 - acc: 0.9382 - val_loss: 0.1643 - val_acc: 0.9456\n",
      "Epoch 3/10\n",
      "40000/40000 [==============================] - 31s 776us/step - loss: 0.1613 - acc: 0.9433 - val_loss: 0.1555 - val_acc: 0.9487\n",
      "Epoch 4/10\n",
      "40000/40000 [==============================] - 32s 804us/step - loss: 0.1542 - acc: 0.9463 - val_loss: 0.1668 - val_acc: 0.9477\n",
      "Epoch 5/10\n",
      "40000/40000 [==============================] - 32s 811us/step - loss: 0.1454 - acc: 0.9494 - val_loss: 0.1512 - val_acc: 0.9508\n",
      "Epoch 6/10\n",
      "40000/40000 [==============================] - 32s 808us/step - loss: 0.1388 - acc: 0.9517 - val_loss: 0.1957 - val_acc: 0.9425\n",
      "Epoch 7/10\n",
      "40000/40000 [==============================] - 33s 813us/step - loss: 0.1336 - acc: 0.9532 - val_loss: 0.1713 - val_acc: 0.9462\n",
      "Epoch 8/10\n",
      "40000/40000 [==============================] - 34s 851us/step - loss: 0.1293 - acc: 0.9550 - val_loss: 0.1736 - val_acc: 0.9494\n",
      "Epoch 9/10\n",
      "40000/40000 [==============================] - 36s 888us/step - loss: 0.1238 - acc: 0.9572 - val_loss: 0.1733 - val_acc: 0.9472\n",
      "Epoch 10/10\n",
      "40000/40000 [==============================] - 33s 814us/step - loss: 0.1198 - acc: 0.9589 - val_loss: 0.1793 - val_acc: 0.9476\n"
     ]
    },
    {
     "data": {
      "text/plain": [
       "<keras.callbacks.History at 0x134a1a4a588>"
      ]
     },
     "execution_count": 10,
     "metadata": {},
     "output_type": "execute_result"
    }
   ],
   "source": [
    "CNN_w2v_model=Sequential()\n",
    "CNN_w2v_model.add(embedding_layer)\n",
    "CNN_w2v_model.add(Dropout(0.2))\n",
    "CNN_w2v_model.add(Conv1D(64,3,padding='valid',activation='relu',strides=1))\n",
    "CNN_w2v_model.add(MaxPool1D(3))\n",
    "CNN_w2v_model.add(Flatten())\n",
    "CNN_w2v_model.add(Dense(Embedding_dim,activation='relu'))\n",
    "CNN_w2v_model.add(Dense(3,activation='softmax'))\n",
    "CNN_w2v_model.summary()\n",
    "\n",
    "CNN_w2v_model.compile(loss='categorical_crossentropy',optimizer=RMSprop(),metrics=[\"accuracy\"])\n",
    "CNN_w2v_model.fit(x_train,y_train,validation_data=[x_val,y_val],epochs=10,batch_size=128)"
   ]
  },
  {
   "cell_type": "code",
   "execution_count": 13,
   "metadata": {
    "ExecuteTime": {
     "end_time": "2019-05-24T08:16:10.547439Z",
     "start_time": "2019-05-24T08:16:07.307310Z"
    }
   },
   "outputs": [
    {
     "data": {
      "image/png": "[encoded data removed]",
      "text/plain": [
       "<Figure size 720x720 with 1 Axes>"
      ]
     },
     "metadata": {
      "needs_background": "light"
     },
     "output_type": "display_data"
    }
   ],
   "source": [
    "CNN_w2v_predict=CNN_w2v_model.predict(x_test)\n",
    "# CNN_w2v混淆矩阵\n",
    "confm = metrics.confusion_matrix(\n",
    "    np.argmax(CNN_w2v_predict, axis=1), np.argmax(y_test, axis=1))\n",
    "LabName = ['火灾', '抢险救援', '社会救助']\n",
    "plt.figure(figsize=(10, 10))\n",
    "sns.heatmap(confm.T, square=True, annot=True, fmt='d',\n",
    "            cbar=False, linewidths=.8, cmap='YlGnBu')\n",
    "plt.xlabel('True Lable', size=14)\n",
    "plt.ylabel('Predicted Lable', size=14)\n",
    "plt.xticks(np.arange(3)+0.5, LabName, size=14)\n",
    "plt.yticks(np.arange(3)+0.5, LabName, size=14)\n",
    "plt.show()"
   ]
  },
  {
   "cell_type": "code",
   "execution_count": 14,
   "metadata": {
    "ExecuteTime": {
     "end_time": "2019-05-24T08:16:16.198179Z",
     "start_time": "2019-05-24T08:16:16.176193Z"
    }
   },
   "outputs": [
    {
     "name": "stdout",
     "output_type": "stream",
     "text": [
      "              precision    recall  f1-score   support\n",
      "\n",
      "           0     0.9685    0.9812    0.9748      6398\n",
      "           1     0.8920    0.9019    0.8970      3069\n",
      "           2     0.9437    0.9171    0.9302      4200\n",
      "\n",
      "   micro avg     0.9437    0.9437    0.9437     13667\n",
      "   macro avg     0.9347    0.9334    0.9340     13667\n",
      "weighted avg     0.9437    0.9437    0.9436     13667\n",
      "\n"
     ]
    }
   ],
   "source": [
    "#召回率\n",
    "print(metrics.classification_report(np.argmax(CNN_w2v_predict,axis=1),np.argmax(y_test,axis=1),digits=4))"
   ]
  },
  {
   "cell_type": "code",
   "execution_count": null,
   "metadata": {},
   "outputs": [],
   "source": [
    "'''结论：\n",
    "    1.CNN与引入w2v后的CNN相比较，准确率上并没有明显的提升\n",
    "    2.引入w2v后，需要训练的参数大大减小，由300万减小为20多万，大大节省了训练时间；每个epoch的训练时间节省约15s\n",
    "'''"
   ]
  }
 ],
 "metadata": {
  "kernelspec": {
   "display_name": "Python 3",
   "language": "python",
   "name": "python3"
  },
  "language_info": {
   "codemirror_mode": {
    "name": "ipython",
    "version": 3
   },
   "file_extension": ".py",
   "mimetype": "text/x-python",
   "name": "python",
   "nbconvert_exporter": "python",
   "pygments_lexer": "ipython3",
   "version": "3.6.3"
  },
  "latex_envs": {
   "LaTeX_envs_menu_present": true,
   "autoclose": false,
   "autocomplete": true,
   "bibliofile": "biblio.bib",
   "cite_by": "apalike",
   "current_citInitial": 1,
   "eqLabelWithNumbers": true,
   "eqNumInitial": 1,
   "hotkeys": {
    "equation": "Ctrl-E",
    "itemize": "Ctrl-I"
   },
   "labels_anchors": false,
   "latex_user_defs": false,
   "report_style_numbering": false,
   "user_envs_cfg": false
  },
  "toc": {
   "base_numbering": 1,
   "nav_menu": {},
   "number_sections": true,
   "sideBar": true,
   "skip_h1_title": false,
   "title_cell": "Table of Contents",
   "title_sidebar": "Contents",
   "toc_cell": false,
   "toc_position": {},
   "toc_section_display": true,
   "toc_window_display": false
  },
  "varInspector": {
   "cols": {
    "lenName": 16,
    "lenType": 16,
    "lenVar": 40
   },
   "kernels_config": {
    "python": {
     "delete_cmd_postfix": "",
     "delete_cmd_prefix": "del ",
     "library": "var_list.py",
     "varRefreshCmd": "print(var_dic_list())"
    },
    "r": {
     "delete_cmd_postfix": ") ",
     "delete_cmd_prefix": "rm(",
     "library": "var_list.r",
     "varRefreshCmd": "cat(var_dic_list()) "
    }
   },
   "types_to_exclude": [
    "module",
    "function",
    "builtin_function_or_method",
    "instance",
    "_Feature"
   ],
   "window_display": false
  }
 },
 "nbformat": 4,
 "nbformat_minor": 2
}
