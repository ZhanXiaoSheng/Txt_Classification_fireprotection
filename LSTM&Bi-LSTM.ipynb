{
 "cells": [
  {
   "cell_type": "code",
   "execution_count": 1,
   "metadata": {
    "ExecuteTime": {
     "end_time": "2019-05-27T04:43:29.849477Z",
     "start_time": "2019-05-27T04:43:25.365068Z"
    }
   },
   "outputs": [
    {
     "name": "stderr",
     "output_type": "stream",
     "text": [
      "Using TensorFlow backend.\n"
     ]
    }
   ],
   "source": [
    "from keras.layers import Input\n",
    "from keras.optimizers import SGD,Adam,RMSprop\n",
    "from keras.layers import Bidirectional\n",
    "import pandas as pd\n",
    "import numpy as np\n",
    "import keras\n",
    "from keras.preprocessing.text import Tokenizer\n",
    "from keras.preprocessing.sequence import pad_sequences\n",
    "tokenizer=Tokenizer()"
   ]
  },
  {
   "cell_type": "code",
   "execution_count": 2,
   "metadata": {
    "ExecuteTime": {
     "end_time": "2019-05-27T04:43:40.084572Z",
     "start_time": "2019-05-27T04:43:30.998815Z"
    }
   },
   "outputs": [],
   "source": [
    "corpus=[]\n",
    "for line in open('data2.txt','r').readlines():\n",
    "    corpus.append(line.strip())\n",
    "\n",
    "tokenizer.fit_on_texts(corpus)\n",
    "sequences=tokenizer.texts_to_sequences(corpus)\n",
    "\n",
    "data_oh=pad_sequences(sequences=sequences,maxlen=50,padding='post')   #最大长度为50，以post的方式补全\n",
    "\n",
    "#导入数据，对案件类型分类\n",
    "filepath='C:/Users/zhangsheng/Desktop/DSjjcl/version2/new_all_df.csv'    #原始数据 \n",
    "all_df=pd.read_csv(filepath,encoding='gb18030')\n",
    "\n",
    "from sklearn.preprocessing import LabelEncoder,OneHotEncoder\n",
    "labEn=LabelEncoder()\n",
    "\n",
    "all_df['案件类型']=labEn.fit_transform(all_df['案件类型'])\n",
    "new_df=all_df[['案件类型']]\n",
    "\n",
    "all_labels=new_df.values"
   ]
  },
  {
   "cell_type": "code",
   "execution_count": null,
   "metadata": {
    "ExecuteTime": {
     "end_time": "2019-05-21T07:57:51.143046Z",
     "start_time": "2019-05-21T07:57:51.138048Z"
    }
   },
   "outputs": [],
   "source": [
    "all_labels[:5]"
   ]
  },
  {
   "cell_type": "code",
   "execution_count": null,
   "metadata": {
    "ExecuteTime": {
     "end_time": "2019-05-21T05:20:58.645305Z",
     "start_time": "2019-05-21T05:20:58.633313Z"
    }
   },
   "outputs": [],
   "source": [
    "corpus"
   ]
  },
  {
   "cell_type": "code",
   "execution_count": null,
   "metadata": {
    "ExecuteTime": {
     "end_time": "2019-05-21T05:21:45.813265Z",
     "start_time": "2019-05-21T05:21:45.808267Z"
    }
   },
   "outputs": [],
   "source": [
    "data_oh"
   ]
  },
  {
   "cell_type": "code",
   "execution_count": 3,
   "metadata": {
    "ExecuteTime": {
     "end_time": "2019-05-27T04:43:45.111671Z",
     "start_time": "2019-05-27T04:43:45.094681Z"
    }
   },
   "outputs": [],
   "source": [
    "word_index=tokenizer.word_index\n",
    "Embedding_dim=200\n",
    "max_length=50"
   ]
  },
  {
   "cell_type": "code",
   "execution_count": 4,
   "metadata": {
    "ExecuteTime": {
     "end_time": "2019-05-27T04:43:45.865236Z",
     "start_time": "2019-05-27T04:43:45.856241Z"
    }
   },
   "outputs": [],
   "source": [
    "from keras.utils import to_categorical\n",
    "\n",
    "labels=to_categorical(all_labels)"
   ]
  },
  {
   "cell_type": "code",
   "execution_count": 5,
   "metadata": {
    "ExecuteTime": {
     "end_time": "2019-05-23T00:49:27.135827Z",
     "start_time": "2019-05-23T00:49:27.126832Z"
    }
   },
   "outputs": [
    {
     "data": {
      "text/plain": [
       "array([[0., 1., 0.],\n",
       "       [1., 0., 0.],\n",
       "       [1., 0., 0.],\n",
       "       ...,\n",
       "       [1., 0., 0.],\n",
       "       [0., 0., 1.],\n",
       "       [1., 0., 0.]], dtype=float32)"
      ]
     },
     "execution_count": 5,
     "metadata": {},
     "output_type": "execute_result"
    }
   ],
   "source": [
    "labels"
   ]
  },
  {
   "cell_type": "code",
   "execution_count": 5,
   "metadata": {
    "ExecuteTime": {
     "end_time": "2019-05-27T04:43:48.328817Z",
     "start_time": "2019-05-27T04:43:48.283840Z"
    }
   },
   "outputs": [],
   "source": [
    "#分割数据  8:2的比例  随机\n",
    "msk=np.random.rand(len(new_df))<0.8\n",
    "train=new_df[msk]\n",
    "test=new_df[~msk]\n",
    "\n",
    "index=train.index\n",
    "x_train=data_oh[index][0:40000]\n",
    "x_val=data_oh[index][40000:]\n",
    "\n",
    "# y_train=train.values[0:40000]\n",
    "# y_val=train.values[40000:]\n",
    "y_train=labels[index][0:40000]\n",
    "y_val=labels[index][40000:]\n",
    "\n",
    "test_index = test.index\n",
    "x_test = data_oh[test_index]\n",
    "y_test=labels[test_index]"
   ]
  },
  {
   "cell_type": "code",
   "execution_count": null,
   "metadata": {
    "ExecuteTime": {
     "end_time": "2019-05-21T05:23:40.869853Z",
     "start_time": "2019-05-21T05:23:40.863856Z"
    }
   },
   "outputs": [],
   "source": [
    "y_train[:2]"
   ]
  },
  {
   "cell_type": "code",
   "execution_count": 6,
   "metadata": {
    "ExecuteTime": {
     "end_time": "2019-05-27T04:43:50.895335Z",
     "start_time": "2019-05-27T04:43:50.890338Z"
    }
   },
   "outputs": [],
   "source": [
    "from keras.layers import Dense,Input,Flatten,Dropout,LSTM,Embedding\n",
    "from keras.models import Sequential"
   ]
  },
  {
   "cell_type": "code",
   "execution_count": 7,
   "metadata": {
    "ExecuteTime": {
     "end_time": "2019-05-27T04:43:51.577940Z",
     "start_time": "2019-05-27T04:43:51.561948Z"
    }
   },
   "outputs": [],
   "source": [
    "from keras_self_attention import SeqSelfAttention"
   ]
  },
  {
   "cell_type": "code",
   "execution_count": 8,
   "metadata": {
    "ExecuteTime": {
     "end_time": "2019-05-22T07:34:53.792225Z",
     "start_time": "2019-05-22T07:34:53.405448Z"
    },
    "lines_to_next_cell": 2
   },
   "outputs": [
    {
     "name": "stdout",
     "output_type": "stream",
     "text": [
      "WARNING:tensorflow:From d:\\python3.6\\lib\\site-packages\\tensorflow\\python\\framework\\op_def_library.py:263: colocate_with (from tensorflow.python.framework.ops) is deprecated and will be removed in a future version.\n",
      "Instructions for updating:\n",
      "Colocations handled automatically by placer.\n",
      "WARNING:tensorflow:From d:\\python3.6\\lib\\site-packages\\keras\\backend\\tensorflow_backend.py:3445: calling dropout (from tensorflow.python.ops.nn_ops) with keep_prob is deprecated and will be removed in a future version.\n",
      "Instructions for updating:\n",
      "Please use `rate` instead of `keep_prob`. Rate should be set to `rate = 1 - keep_prob`.\n",
      "_________________________________________________________________\n",
      "Layer (type)                 Output Shape              Param #   \n",
      "=================================================================\n",
      "embedding_1 (Embedding)      (None, 50, 200)           3023000   \n",
      "_________________________________________________________________\n",
      "lstm_1 (LSTM)                (None, 128)               168448    \n",
      "_________________________________________________________________\n",
      "dropout_1 (Dropout)          (None, 128)               0         \n",
      "_________________________________________________________________\n",
      "dense_1 (Dense)              (None, 3)                 387       \n",
      "=================================================================\n",
      "Total params: 3,191,835\n",
      "Trainable params: 3,191,835\n",
      "Non-trainable params: 0\n",
      "_________________________________________________________________\n"
     ]
    }
   ],
   "source": [
    "model = Sequential()\n",
    "model.add(Embedding(input_dim=len(word_index)+1,\n",
    "                   output_dim=Embedding_dim, input_length=max_length))\n",
    "model.add(LSTM(128, dropout=0.2, recurrent_dropout=0.2))\n",
    "model.add(Dropout(0.2))\n",
    "#model.add(SeqSelfAttention(attention_activation='sigmoid'))\n",
    "model.add(Dense(3, activation='softmax'))\n",
    "model.summary()"
   ]
  },
  {
   "cell_type": "code",
   "execution_count": 9,
   "metadata": {
    "ExecuteTime": {
     "end_time": "2019-05-23T00:49:36.793255Z",
     "start_time": "2019-05-23T00:49:36.790256Z"
    }
   },
   "outputs": [],
   "source": [
    "from keras.callbacks import EarlyStopping"
   ]
  },
  {
   "cell_type": "code",
   "execution_count": 19,
   "metadata": {
    "ExecuteTime": {
     "end_time": "2019-05-22T03:44:30.434955Z",
     "start_time": "2019-05-22T02:55:11.763179Z"
    }
   },
   "outputs": [
    {
     "name": "stdout",
     "output_type": "stream",
     "text": [
      "Train on 40000 samples, validate on 14828 samples\n",
      "Epoch 1/50\n",
      "40000/40000 [==============================] - 59s 1ms/step - loss: 1.0572 - acc: 0.4629 - val_loss: 1.0556 - val_acc: 0.4850\n",
      "Epoch 2/50\n",
      "40000/40000 [==============================] - 59s 1ms/step - loss: 1.0561 - acc: 0.4638 - val_loss: 1.0520 - val_acc: 0.4850\n",
      "Epoch 3/50\n",
      "40000/40000 [==============================] - 58s 1ms/step - loss: 1.0563 - acc: 0.4638 - val_loss: 1.0562 - val_acc: 0.4850\n",
      "Epoch 4/50\n",
      "40000/40000 [==============================] - 59s 1ms/step - loss: 1.0559 - acc: 0.4638 - val_loss: 1.0529 - val_acc: 0.4850\n",
      "Epoch 5/50\n",
      "40000/40000 [==============================] - 58s 1ms/step - loss: 1.0560 - acc: 0.4638 - val_loss: 1.0538 - val_acc: 0.4850\n",
      "Epoch 6/50\n",
      "40000/40000 [==============================] - 61s 2ms/step - loss: 1.0559 - acc: 0.4638 - val_loss: 1.0563 - val_acc: 0.4850\n",
      "Epoch 7/50\n",
      "40000/40000 [==============================] - 59s 1ms/step - loss: 1.0559 - acc: 0.4638 - val_loss: 1.0548 - val_acc: 0.4850\n",
      "Epoch 8/50\n",
      "40000/40000 [==============================] - 59s 1ms/step - loss: 1.0556 - acc: 0.4638 - val_loss: 1.0531 - val_acc: 0.4850\n",
      "Epoch 9/50\n",
      "40000/40000 [==============================] - 60s 1ms/step - loss: 1.0555 - acc: 0.4638 - val_loss: 1.0550 - val_acc: 0.4850\n",
      "Epoch 10/50\n",
      "40000/40000 [==============================] - 60s 1ms/step - loss: 1.0555 - acc: 0.4638 - val_loss: 1.0530 - val_acc: 0.4850\n",
      "Epoch 11/50\n",
      "40000/40000 [==============================] - 59s 1ms/step - loss: 1.0555 - acc: 0.4638 - val_loss: 1.0548 - val_acc: 0.4850\n",
      "Epoch 12/50\n",
      "40000/40000 [==============================] - 59s 1ms/step - loss: 1.0553 - acc: 0.4638 - val_loss: 1.0523 - val_acc: 0.4850\n",
      "Epoch 13/50\n",
      "40000/40000 [==============================] - 59s 1ms/step - loss: 1.0555 - acc: 0.4638 - val_loss: 1.0556 - val_acc: 0.4850\n",
      "Epoch 14/50\n",
      "40000/40000 [==============================] - 60s 1ms/step - loss: 1.0554 - acc: 0.4638 - val_loss: 1.0541 - val_acc: 0.4850\n",
      "Epoch 15/50\n",
      "40000/40000 [==============================] - 60s 2ms/step - loss: 1.0553 - acc: 0.4638 - val_loss: 1.0549 - val_acc: 0.4850\n",
      "Epoch 16/50\n",
      "40000/40000 [==============================] - 57s 1ms/step - loss: 1.0554 - acc: 0.4638 - val_loss: 1.0545 - val_acc: 0.4850\n",
      "Epoch 17/50\n",
      "40000/40000 [==============================] - 57s 1ms/step - loss: 1.0552 - acc: 0.4638 - val_loss: 1.0551 - val_acc: 0.4850\n",
      "Epoch 18/50\n",
      "40000/40000 [==============================] - 57s 1ms/step - loss: 1.0554 - acc: 0.4638 - val_loss: 1.0533 - val_acc: 0.4850\n",
      "Epoch 19/50\n",
      "40000/40000 [==============================] - 57s 1ms/step - loss: 1.0554 - acc: 0.4638 - val_loss: 1.0537 - val_acc: 0.4850\n",
      "Epoch 20/50\n",
      "40000/40000 [==============================] - 58s 1ms/step - loss: 1.0553 - acc: 0.4638 - val_loss: 1.0537 - val_acc: 0.4850\n",
      "Epoch 21/50\n",
      "40000/40000 [==============================] - 59s 1ms/step - loss: 1.0554 - acc: 0.4638 - val_loss: 1.0529 - val_acc: 0.4850\n",
      "Epoch 22/50\n",
      "40000/40000 [==============================] - 57s 1ms/step - loss: 1.0551 - acc: 0.4638 - val_loss: 1.0569 - val_acc: 0.4850\n",
      "Epoch 23/50\n",
      "40000/40000 [==============================] - 57s 1ms/step - loss: 1.0553 - acc: 0.4638 - val_loss: 1.0567 - val_acc: 0.4850\n",
      "Epoch 24/50\n",
      "40000/40000 [==============================] - 58s 1ms/step - loss: 1.0552 - acc: 0.4640 - val_loss: 1.0521 - val_acc: 0.4850\n",
      "Epoch 25/50\n",
      "40000/40000 [==============================] - 60s 1ms/step - loss: 1.0152 - acc: 0.5031 - val_loss: 0.9636 - val_acc: 0.5726\n",
      "Epoch 26/50\n",
      "40000/40000 [==============================] - 61s 2ms/step - loss: 0.9006 - acc: 0.5758 - val_loss: 0.8402 - val_acc: 0.6308\n",
      "Epoch 27/50\n",
      "40000/40000 [==============================] - 58s 1ms/step - loss: 0.8708 - acc: 0.5872 - val_loss: 0.8740 - val_acc: 0.6128\n",
      "Epoch 28/50\n",
      "40000/40000 [==============================] - 59s 1ms/step - loss: 0.8765 - acc: 0.5832 - val_loss: 0.8170 - val_acc: 0.6473\n",
      "Epoch 29/50\n",
      "40000/40000 [==============================] - 60s 1ms/step - loss: 0.8667 - acc: 0.5846 - val_loss: 0.7865 - val_acc: 0.6578\n",
      "Epoch 30/50\n",
      "40000/40000 [==============================] - 60s 1ms/step - loss: 0.8954 - acc: 0.5652 - val_loss: 0.8104 - val_acc: 0.6425\n",
      "Epoch 31/50\n",
      "40000/40000 [==============================] - 60s 1ms/step - loss: 0.8514 - acc: 0.5898 - val_loss: 0.7811 - val_acc: 0.6607\n",
      "Epoch 32/50\n",
      "40000/40000 [==============================] - 59s 1ms/step - loss: 0.8526 - acc: 0.5887 - val_loss: 0.8827 - val_acc: 0.5936\n",
      "Epoch 33/50\n",
      "40000/40000 [==============================] - 59s 1ms/step - loss: 0.8238 - acc: 0.6015 - val_loss: 0.7814 - val_acc: 0.6482\n",
      "Epoch 34/50\n",
      "40000/40000 [==============================] - 61s 2ms/step - loss: 0.7938 - acc: 0.6127 - val_loss: 0.7124 - val_acc: 0.6805\n",
      "Epoch 35/50\n",
      "40000/40000 [==============================] - 59s 1ms/step - loss: 0.7624 - acc: 0.6240 - val_loss: 0.6924 - val_acc: 0.6882\n",
      "Epoch 36/50\n",
      "40000/40000 [==============================] - 61s 2ms/step - loss: 0.7163 - acc: 0.6419 - val_loss: 0.6237 - val_acc: 0.7061\n",
      "Epoch 37/50\n",
      "40000/40000 [==============================] - 59s 1ms/step - loss: 0.5124 - acc: 0.7765 - val_loss: 0.3303 - val_acc: 0.9021\n",
      "Epoch 38/50\n",
      "40000/40000 [==============================] - 60s 1ms/step - loss: 0.2463 - acc: 0.9346 - val_loss: 0.1950 - val_acc: 0.9501\n",
      "Epoch 39/50\n",
      "40000/40000 [==============================] - 60s 2ms/step - loss: 0.2051 - acc: 0.9492 - val_loss: 0.2059 - val_acc: 0.9487\n",
      "Epoch 40/50\n",
      "40000/40000 [==============================] - 59s 1ms/step - loss: 0.2330 - acc: 0.9394 - val_loss: 0.2859 - val_acc: 0.9199\n",
      "Epoch 41/50\n",
      "40000/40000 [==============================] - 59s 1ms/step - loss: 0.2413 - acc: 0.9339 - val_loss: 0.1849 - val_acc: 0.9534\n",
      "Epoch 42/50\n",
      "40000/40000 [==============================] - 60s 1ms/step - loss: 0.1641 - acc: 0.9587 - val_loss: 0.1677 - val_acc: 0.9564\n",
      "Epoch 43/50\n",
      "40000/40000 [==============================] - 59s 1ms/step - loss: 0.1402 - acc: 0.9647 - val_loss: 0.1561 - val_acc: 0.9597\n",
      "Epoch 44/50\n",
      "40000/40000 [==============================] - 61s 2ms/step - loss: 0.1199 - acc: 0.9693 - val_loss: 0.1358 - val_acc: 0.9635\n",
      "Epoch 45/50\n",
      "40000/40000 [==============================] - 59s 1ms/step - loss: 0.1069 - acc: 0.9717 - val_loss: 0.1399 - val_acc: 0.9647\n",
      "Epoch 46/50\n",
      "40000/40000 [==============================] - 60s 2ms/step - loss: 0.1002 - acc: 0.9735 - val_loss: 0.1292 - val_acc: 0.9637\n",
      "Epoch 47/50\n",
      "40000/40000 [==============================] - 59s 1ms/step - loss: 0.0937 - acc: 0.9743 - val_loss: 0.1309 - val_acc: 0.9632\n",
      "Epoch 48/50\n",
      "40000/40000 [==============================] - 59s 1ms/step - loss: 0.0905 - acc: 0.9751 - val_loss: 0.1457 - val_acc: 0.9624\n",
      "Epoch 49/50\n",
      "40000/40000 [==============================] - 60s 2ms/step - loss: 0.0854 - acc: 0.9765 - val_loss: 0.1392 - val_acc: 0.9643\n",
      "Epoch 50/50\n",
      "40000/40000 [==============================] - 60s 2ms/step - loss: 0.0820 - acc: 0.9771 - val_loss: 0.1472 - val_acc: 0.9609\n"
     ]
    },
    {
     "data": {
      "text/plain": [
       "<keras.callbacks.History at 0x2b08c2edcf8>"
      ]
     },
     "execution_count": 19,
     "metadata": {},
     "output_type": "execute_result"
    }
   ],
   "source": [
    "early_stopping=EarlyStopping(monitor='acc',patience=20)\n",
    "model.compile(loss='categorical_crossentropy',\n",
    "             optimizer=RMSprop(),\n",
    "             metrics=['accuracy'])\n",
    "model.fit(x_train,y_train,validation_data=[x_val,y_val],epochs=50,batch_size=128)"
   ]
  },
  {
   "cell_type": "code",
   "execution_count": null,
   "metadata": {},
   "outputs": [],
   "source": []
  },
  {
   "cell_type": "code",
   "execution_count": null,
   "metadata": {},
   "outputs": [],
   "source": []
  },
  {
   "cell_type": "code",
   "execution_count": null,
   "metadata": {},
   "outputs": [],
   "source": []
  },
  {
   "cell_type": "code",
   "execution_count": 8,
   "metadata": {
    "ExecuteTime": {
     "end_time": "2019-05-27T04:44:29.898826Z",
     "start_time": "2019-05-27T04:44:29.651968Z"
    }
   },
   "outputs": [
    {
     "name": "stderr",
     "output_type": "stream",
     "text": [
      "d:\\python3.6\\lib\\site-packages\\gensim\\utils.py:1212: UserWarning: detected Windows; aliasing chunkize to chunkize_serial\n",
      "  warnings.warn(\"detected Windows; aliasing chunkize to chunkize_serial\")\n"
     ]
    }
   ],
   "source": [
    "###载入预训练好的word2vec模型，并使用该模型替代Embedding层\n",
    "import gensim\n",
    "from gensim.models import Word2Vec"
   ]
  },
  {
   "cell_type": "code",
   "execution_count": 9,
   "metadata": {
    "ExecuteTime": {
     "end_time": "2019-05-27T04:44:30.754332Z",
     "start_time": "2019-05-27T04:44:30.537457Z"
    }
   },
   "outputs": [
    {
     "name": "stderr",
     "output_type": "stream",
     "text": [
      "d:\\python3.6\\lib\\site-packages\\ipykernel_launcher.py:4: DeprecationWarning: Call to deprecated `__contains__` (Method will be removed in 4.0.0, use self.wv.__contains__() instead).\n",
      "  after removing the cwd from sys.path.\n",
      "d:\\python3.6\\lib\\site-packages\\ipykernel_launcher.py:5: DeprecationWarning: Call to deprecated `__getitem__` (Method will be removed in 4.0.0, use self.wv.__getitem__() instead).\n",
      "  \"\"\"\n"
     ]
    }
   ],
   "source": [
    "w2v_model=Word2Vec.load('word2vec.model')\n",
    "embedding_matrix=np.zeros((len(word_index)+1,Embedding_dim))\n",
    "for word,i in word_index.items():\n",
    "    if word in w2v_model:\n",
    "        embedding_matrix[i]=np.asarray(w2v_model[word],\n",
    "                                      dtype='float32')\n",
    "embedding_layer=Embedding(len(word_index)+1,\n",
    "                         Embedding_dim,   #输出维度应该=预训练的size大小\n",
    "                         weights=[embedding_matrix],\n",
    "                         input_length=max_length,\n",
    "                         trainable=False)"
   ]
  },
  {
   "cell_type": "code",
   "execution_count": 10,
   "metadata": {
    "ExecuteTime": {
     "end_time": "2019-05-27T04:44:42.315660Z",
     "start_time": "2019-05-27T04:44:41.905897Z"
    }
   },
   "outputs": [
    {
     "name": "stdout",
     "output_type": "stream",
     "text": [
      "WARNING:tensorflow:From d:\\python3.6\\lib\\site-packages\\tensorflow\\python\\framework\\op_def_library.py:263: colocate_with (from tensorflow.python.framework.ops) is deprecated and will be removed in a future version.\n",
      "Instructions for updating:\n",
      "Colocations handled automatically by placer.\n",
      "WARNING:tensorflow:From d:\\python3.6\\lib\\site-packages\\keras\\backend\\tensorflow_backend.py:3445: calling dropout (from tensorflow.python.ops.nn_ops) with keep_prob is deprecated and will be removed in a future version.\n",
      "Instructions for updating:\n",
      "Please use `rate` instead of `keep_prob`. Rate should be set to `rate = 1 - keep_prob`.\n",
      "_________________________________________________________________\n",
      "Layer (type)                 Output Shape              Param #   \n",
      "=================================================================\n",
      "embedding_1 (Embedding)      (None, 50, 200)           3023000   \n",
      "_________________________________________________________________\n",
      "lstm_1 (LSTM)                (None, 128)               168448    \n",
      "_________________________________________________________________\n",
      "dropout_1 (Dropout)          (None, 128)               0         \n",
      "_________________________________________________________________\n",
      "dense_1 (Dense)              (None, 3)                 387       \n",
      "=================================================================\n",
      "Total params: 3,191,835\n",
      "Trainable params: 168,835\n",
      "Non-trainable params: 3,023,000\n",
      "_________________________________________________________________\n"
     ]
    }
   ],
   "source": [
    "###LSTM+word2vec\n",
    "model_=Sequential()\n",
    "model_.add(embedding_layer)\n",
    "model_.add(LSTM(128,dropout=0.2,recurrent_dropout=0.2))\n",
    "model_.add(Dropout(0.2))\n",
    "model_.add(Dense(3,activation='softmax'))\n",
    "model_.summary()"
   ]
  },
  {
   "cell_type": "code",
   "execution_count": 10,
   "metadata": {
    "ExecuteTime": {
     "end_time": "2019-05-27T03:22:34.625300Z",
     "start_time": "2019-05-27T03:09:09.906677Z"
    }
   },
   "outputs": [
    {
     "name": "stdout",
     "output_type": "stream",
     "text": [
      "WARNING:tensorflow:From d:\\python3.6\\lib\\site-packages\\tensorflow\\python\\ops\\math_ops.py:3066: to_int32 (from tensorflow.python.ops.math_ops) is deprecated and will be removed in a future version.\n",
      "Instructions for updating:\n",
      "Use tf.cast instead.\n",
      "Train on 40000 samples, validate on 15040 samples\n",
      "Epoch 1/10\n",
      "40000/40000 [==============================] - 87s 2ms/step - loss: 0.5250 - acc: 0.7389 - val_loss: 0.3735 - val_acc: 0.8975\n",
      "Epoch 2/10\n",
      "40000/40000 [==============================] - 78s 2ms/step - loss: 0.3320 - acc: 0.9014 - val_loss: 0.3028 - val_acc: 0.9189\n",
      "Epoch 3/10\n",
      "40000/40000 [==============================] - 78s 2ms/step - loss: 0.3252 - acc: 0.9049 - val_loss: 0.2897 - val_acc: 0.9178\n",
      "Epoch 4/10\n",
      "40000/40000 [==============================] - 80s 2ms/step - loss: 0.2850 - acc: 0.9141 - val_loss: 0.2525 - val_acc: 0.9257\n",
      "Epoch 5/10\n",
      "40000/40000 [==============================] - 81s 2ms/step - loss: 0.2612 - acc: 0.9139 - val_loss: 0.2121 - val_acc: 0.9342\n",
      "Epoch 6/10\n",
      "40000/40000 [==============================] - 79s 2ms/step - loss: 0.2150 - acc: 0.9288 - val_loss: 0.1624 - val_acc: 0.9485\n",
      "Epoch 7/10\n",
      "40000/40000 [==============================] - 81s 2ms/step - loss: 0.1803 - acc: 0.9390 - val_loss: 0.1565 - val_acc: 0.9528\n",
      "Epoch 8/10\n",
      "40000/40000 [==============================] - 79s 2ms/step - loss: 0.1699 - acc: 0.9441 - val_loss: 0.1404 - val_acc: 0.9558\n",
      "Epoch 9/10\n",
      "40000/40000 [==============================] - 79s 2ms/step - loss: 0.1593 - acc: 0.9466 - val_loss: 0.1489 - val_acc: 0.9564\n",
      "Epoch 10/10\n",
      "40000/40000 [==============================] - 79s 2ms/step - loss: 0.1526 - acc: 0.9506 - val_loss: 0.1282 - val_acc: 0.9586\n"
     ]
    },
    {
     "data": {
      "text/plain": [
       "<keras.callbacks.History at 0x1be5b1de278>"
      ]
     },
     "execution_count": 10,
     "metadata": {},
     "output_type": "execute_result"
    }
   ],
   "source": [
    "model_.compile(loss='categorical_crossentropy',\n",
    "             optimizer=RMSprop(),\n",
    "             metrics=['accuracy'])\n",
    "model_.fit(x_train,y_train,validation_data=[x_val,y_val],epochs=10,batch_size=128)"
   ]
  },
  {
   "cell_type": "code",
   "execution_count": null,
   "metadata": {},
   "outputs": [],
   "source": [
    "'''\n",
    "结论：\n",
    "    1。word2vec训练时间每个epoch节省了20s左右\n",
    "    2.准确率稍有提升\n",
    "'''"
   ]
  },
  {
   "cell_type": "code",
   "execution_count": 12,
   "metadata": {
    "ExecuteTime": {
     "end_time": "2019-05-27T03:24:34.652038Z",
     "start_time": "2019-05-27T03:24:23.235626Z"
    }
   },
   "outputs": [
    {
     "name": "stdout",
     "output_type": "stream",
     "text": [
      "              precision    recall  f1-score   support\n",
      "\n",
      "           0     0.9769    0.9809    0.9789      6339\n",
      "           1     0.8986    0.9282    0.9132      2951\n",
      "           2     0.9572    0.9301    0.9435      4350\n",
      "\n",
      "   micro avg     0.9533    0.9533    0.9533     13640\n",
      "   macro avg     0.9442    0.9464    0.9452     13640\n",
      "weighted avg     0.9537    0.9533    0.9534     13640\n",
      "\n"
     ]
    }
   ],
   "source": [
    "prediction=model_.predict(x_test)\n",
    "print(metrics.classification_report(np.argmax(prediction,axis=1),np.argmax(y_test,axis=1),digits=4))"
   ]
  },
  {
   "cell_type": "code",
   "execution_count": null,
   "metadata": {},
   "outputs": [],
   "source": []
  },
  {
   "cell_type": "code",
   "execution_count": null,
   "metadata": {},
   "outputs": [],
   "source": []
  },
  {
   "cell_type": "code",
   "execution_count": 10,
   "metadata": {
    "ExecuteTime": {
     "end_time": "2019-05-27T01:20:53.409049Z",
     "start_time": "2019-05-27T00:41:51.859570Z"
    },
    "lines_to_next_cell": 2
   },
   "outputs": [
    {
     "name": "stdout",
     "output_type": "stream",
     "text": [
      "WARNING:tensorflow:From d:\\python3.6\\lib\\site-packages\\tensorflow\\python\\framework\\op_def_library.py:263: colocate_with (from tensorflow.python.framework.ops) is deprecated and will be removed in a future version.\n",
      "Instructions for updating:\n",
      "Colocations handled automatically by placer.\n",
      "WARNING:tensorflow:From d:\\python3.6\\lib\\site-packages\\keras\\backend\\tensorflow_backend.py:3445: calling dropout (from tensorflow.python.ops.nn_ops) with keep_prob is deprecated and will be removed in a future version.\n",
      "Instructions for updating:\n",
      "Please use `rate` instead of `keep_prob`. Rate should be set to `rate = 1 - keep_prob`.\n",
      "_________________________________________________________________\n",
      "Layer (type)                 Output Shape              Param #   \n",
      "=================================================================\n",
      "embedding_2 (Embedding)      (None, 50, 200)           3023000   \n",
      "_________________________________________________________________\n",
      "bidirectional_1 (Bidirection (None, 256)               336896    \n",
      "_________________________________________________________________\n",
      "dropout_1 (Dropout)          (None, 256)               0         \n",
      "_________________________________________________________________\n",
      "dense_1 (Dense)              (None, 3)                 771       \n",
      "=================================================================\n",
      "Total params: 3,360,667\n",
      "Trainable params: 3,360,667\n",
      "Non-trainable params: 0\n",
      "_________________________________________________________________\n",
      "WARNING:tensorflow:From d:\\python3.6\\lib\\site-packages\\tensorflow\\python\\ops\\math_ops.py:3066: to_int32 (from tensorflow.python.ops.math_ops) is deprecated and will be removed in a future version.\n",
      "Instructions for updating:\n",
      "Use tf.cast instead.\n",
      "Train on 40000 samples, validate on 15012 samples\n",
      "Epoch 1/10\n",
      "40000/40000 [==============================] - 245s 6ms/step - loss: 0.2421 - acc: 0.9138 - val_loss: 0.1191 - val_acc: 0.9654\n",
      "Epoch 2/10\n",
      "40000/40000 [==============================] - 225s 6ms/step - loss: 0.1208 - acc: 0.9622 - val_loss: 0.1185 - val_acc: 0.9650\n",
      "Epoch 3/10\n",
      "40000/40000 [==============================] - 229s 6ms/step - loss: 0.1083 - acc: 0.9666 - val_loss: 0.1182 - val_acc: 0.9648\n",
      "Epoch 4/10\n",
      "40000/40000 [==============================] - 233s 6ms/step - loss: 0.1019 - acc: 0.9682 - val_loss: 0.1236 - val_acc: 0.9655\n",
      "Epoch 5/10\n",
      "40000/40000 [==============================] - 228s 6ms/step - loss: 0.0965 - acc: 0.9708 - val_loss: 0.1446 - val_acc: 0.9616\n",
      "Epoch 6/10\n",
      "40000/40000 [==============================] - 240s 6ms/step - loss: 0.0929 - acc: 0.9717 - val_loss: 0.1208 - val_acc: 0.9648\n",
      "Epoch 7/10\n",
      "40000/40000 [==============================] - 234s 6ms/step - loss: 0.0875 - acc: 0.9741 - val_loss: 0.1216 - val_acc: 0.9655\n",
      "Epoch 8/10\n",
      "40000/40000 [==============================] - 230s 6ms/step - loss: 0.0835 - acc: 0.9745 - val_loss: 0.1219 - val_acc: 0.9656\n",
      "Epoch 9/10\n",
      "40000/40000 [==============================] - 231s 6ms/step - loss: 0.0798 - acc: 0.9754 - val_loss: 0.1314 - val_acc: 0.9638\n",
      "Epoch 10/10\n",
      "40000/40000 [==============================] - 231s 6ms/step - loss: 0.0771 - acc: 0.9761 - val_loss: 0.1235 - val_acc: 0.9644\n"
     ]
    },
    {
     "data": {
      "text/plain": [
       "<keras.callbacks.History at 0x2327b5cfa90>"
      ]
     },
     "execution_count": 10,
     "metadata": {},
     "output_type": "execute_result"
    }
   ],
   "source": [
    "####BiLSTM\n",
    "\n",
    "Bi_model=Sequential()\n",
    "Bi_model.add(Embedding(input_dim=len(word_index)+1,output_dim=Embedding_dim,input_length=max_length))\n",
    "Bi_model.add(Bidirectional(LSTM(128,dropout=0.2,recurrent_dropout=0.2)))\n",
    "# Bi_model.add(SeqSelfAttention(attention_activation='sigmoid'))\n",
    "Bi_model.add(Dropout(0.2))\n",
    "Bi_model.add(Dense(3,activation='softmax'))\n",
    "Bi_model.summary()\n",
    "Bi_model.compile(loss='categorical_crossentropy',optimizer=RMSprop(),metrics=[\"accuracy\"])\n",
    "Bi_model.fit(x_train,y_train,validation_data=[x_val,y_val],epochs=10,batch_size=128)"
   ]
  },
  {
   "cell_type": "code",
   "execution_count": 13,
   "metadata": {
    "ExecuteTime": {
     "end_time": "2019-05-27T05:30:19.433773Z",
     "start_time": "2019-05-27T05:30:19.420780Z"
    }
   },
   "outputs": [],
   "source": [
    "from sklearn import metrics"
   ]
  },
  {
   "cell_type": "code",
   "execution_count": 15,
   "metadata": {
    "ExecuteTime": {
     "end_time": "2019-05-27T01:31:18.383977Z",
     "start_time": "2019-05-27T01:30:57.414080Z"
    }
   },
   "outputs": [
    {
     "name": "stdout",
     "output_type": "stream",
     "text": [
      "              precision    recall  f1-score   support\n",
      "\n",
      "           0     0.9858    0.9857    0.9857      6488\n",
      "           1     0.9202    0.9400    0.9300      3068\n",
      "           2     0.9582    0.9431    0.9506      4112\n",
      "\n",
      "   micro avg     0.9626    0.9626    0.9626     13668\n",
      "   macro avg     0.9548    0.9563    0.9555     13668\n",
      "weighted avg     0.9628    0.9626    0.9627     13668\n",
      "\n"
     ]
    }
   ],
   "source": [
    "prediction=Bi_model.predict(x_test)\n",
    "print(metrics.classification_report(np.argmax(prediction,axis=1),np.argmax(y_test,axis=1),digits=4))"
   ]
  },
  {
   "cell_type": "code",
   "execution_count": null,
   "metadata": {},
   "outputs": [],
   "source": []
  },
  {
   "cell_type": "code",
   "execution_count": 11,
   "metadata": {
    "ExecuteTime": {
     "end_time": "2019-05-27T05:01:30.382546Z",
     "start_time": "2019-05-27T04:45:03.353520Z"
    }
   },
   "outputs": [
    {
     "name": "stdout",
     "output_type": "stream",
     "text": [
      "_________________________________________________________________\n",
      "Layer (type)                 Output Shape              Param #   \n",
      "=================================================================\n",
      "embedding_1 (Embedding)      (None, 50, 200)           3023000   \n",
      "_________________________________________________________________\n",
      "bidirectional_1 (Bidirection (None, 256)               336896    \n",
      "_________________________________________________________________\n",
      "dense_2 (Dense)              (None, 3)                 771       \n",
      "=================================================================\n",
      "Total params: 3,360,667\n",
      "Trainable params: 337,667\n",
      "Non-trainable params: 3,023,000\n",
      "_________________________________________________________________\n",
      "WARNING:tensorflow:From d:\\python3.6\\lib\\site-packages\\tensorflow\\python\\ops\\math_ops.py:3066: to_int32 (from tensorflow.python.ops.math_ops) is deprecated and will be removed in a future version.\n",
      "Instructions for updating:\n",
      "Use tf.cast instead.\n",
      "Train on 40000 samples, validate on 14865 samples\n",
      "Epoch 1/10\n",
      "40000/40000 [==============================] - 95s 2ms/step - loss: 0.2589 - acc: 0.9076 - val_loss: 0.1704 - val_acc: 0.9452\n",
      "Epoch 2/10\n",
      "40000/40000 [==============================] - 93s 2ms/step - loss: 0.1896 - acc: 0.9330 - val_loss: 0.1500 - val_acc: 0.9502\n",
      "Epoch 3/10\n",
      "40000/40000 [==============================] - 92s 2ms/step - loss: 0.1721 - acc: 0.9398 - val_loss: 0.1416 - val_acc: 0.9541\n",
      "Epoch 4/10\n",
      "40000/40000 [==============================] - 96s 2ms/step - loss: 0.1628 - acc: 0.9433 - val_loss: 0.1307 - val_acc: 0.9577\n",
      "Epoch 5/10\n",
      "40000/40000 [==============================] - 101s 3ms/step - loss: 0.1554 - acc: 0.9456 - val_loss: 0.1289 - val_acc: 0.9574\n",
      "Epoch 6/10\n",
      "40000/40000 [==============================] - 102s 3ms/step - loss: 0.1514 - acc: 0.9474 - val_loss: 0.1300 - val_acc: 0.9594\n",
      "Epoch 7/10\n",
      "40000/40000 [==============================] - 101s 3ms/step - loss: 0.1458 - acc: 0.9506 - val_loss: 0.1257 - val_acc: 0.9594\n",
      "Epoch 8/10\n",
      "40000/40000 [==============================] - 101s 3ms/step - loss: 0.1428 - acc: 0.9516 - val_loss: 0.1290 - val_acc: 0.9592\n",
      "Epoch 9/10\n",
      "40000/40000 [==============================] - 102s 3ms/step - loss: 0.1395 - acc: 0.9527 - val_loss: 0.1219 - val_acc: 0.9609\n",
      "Epoch 10/10\n",
      "40000/40000 [==============================] - 102s 3ms/step - loss: 0.1375 - acc: 0.9522 - val_loss: 0.1284 - val_acc: 0.9609\n"
     ]
    },
    {
     "data": {
      "text/plain": [
       "<keras.callbacks.History at 0x16fa9b37438>"
      ]
     },
     "execution_count": 11,
     "metadata": {},
     "output_type": "execute_result"
    }
   ],
   "source": [
    "###Bi-LSTM +Word2Vec\n",
    "Bi_w2v_model=Sequential()\n",
    "Bi_w2v_model.add(embedding_layer)\n",
    "Bi_w2v_model.add(Bidirectional(LSTM(128,dropout=0.5,recurrent_dropout=0.5)))\n",
    "Bi_w2v_model.add(Dense(3,activation='softmax'))\n",
    "Bi_w2v_model.summary()\n",
    "Bi_w2v_model.compile(loss='categorical_crossentropy',optimizer=RMSprop(),metrics=['accuracy'])\n",
    "Bi_w2v_model.fit(x_train,y_train,validation_data=[x_val,y_val],epochs=10,batch_size=128)"
   ]
  },
  {
   "cell_type": "code",
   "execution_count": 14,
   "metadata": {
    "ExecuteTime": {
     "end_time": "2019-05-27T05:30:34.455105Z",
     "start_time": "2019-05-27T05:30:24.037116Z"
    }
   },
   "outputs": [
    {
     "name": "stdout",
     "output_type": "stream",
     "text": [
      "              precision    recall  f1-score   support\n",
      "\n",
      "           0     0.9810    0.9756    0.9783      6441\n",
      "           1     0.9078    0.9306    0.9190      3226\n",
      "           2     0.9478    0.9373    0.9425      4148\n",
      "\n",
      "   micro avg     0.9536    0.9536    0.9536     13815\n",
      "   macro avg     0.9455    0.9478    0.9466     13815\n",
      "weighted avg     0.9539    0.9536    0.9537     13815\n",
      "\n"
     ]
    }
   ],
   "source": [
    "prediction=Bi_w2v_model.predict(x_test)\n",
    "print(metrics.classification_report(np.argmax(prediction,axis=1),np.argmax(y_test,axis=1),digits=4))"
   ]
  },
  {
   "cell_type": "code",
   "execution_count": null,
   "metadata": {},
   "outputs": [],
   "source": []
  },
  {
   "cell_type": "code",
   "execution_count": 9,
   "metadata": {
    "ExecuteTime": {
     "end_time": "2019-05-23T02:56:32.084344Z",
     "start_time": "2019-05-23T02:56:32.078346Z"
    }
   },
   "outputs": [],
   "source": [
    "from keras.layers import Conv1D,MaxPooling1D,Flatten,Dense"
   ]
  },
  {
   "cell_type": "code",
   "execution_count": 10,
   "metadata": {
    "ExecuteTime": {
     "end_time": "2019-05-23T02:56:36.922551Z",
     "start_time": "2019-05-23T02:56:33.912292Z"
    },
    "lines_to_next_cell": 2
   },
   "outputs": [
    {
     "name": "stdout",
     "output_type": "stream",
     "text": [
      "WARNING:tensorflow:From d:\\python3.6\\lib\\site-packages\\tensorflow\\python\\framework\\op_def_library.py:263: colocate_with (from tensorflow.python.framework.ops) is deprecated and will be removed in a future version.\n",
      "Instructions for updating:\n",
      "Colocations handled automatically by placer.\n",
      "WARNING:tensorflow:From d:\\python3.6\\lib\\site-packages\\keras\\backend\\tensorflow_backend.py:3445: calling dropout (from tensorflow.python.ops.nn_ops) with keep_prob is deprecated and will be removed in a future version.\n",
      "Instructions for updating:\n",
      "Please use `rate` instead of `keep_prob`. Rate should be set to `rate = 1 - keep_prob`.\n",
      "_________________________________________________________________\n",
      "Layer (type)                 Output Shape              Param #   \n",
      "=================================================================\n",
      "embedding_1 (Embedding)      (None, 50, 200)           3023000   \n",
      "_________________________________________________________________\n",
      "dropout_1 (Dropout)          (None, 50, 200)           0         \n",
      "_________________________________________________________________\n",
      "conv1d_1 (Conv1D)            (None, 48, 64)            38464     \n",
      "_________________________________________________________________\n",
      "max_pooling1d_1 (MaxPooling1 (None, 16, 64)            0         \n",
      "_________________________________________________________________\n",
      "bidirectional_1 (Bidirection (None, 256)               197632    \n",
      "_________________________________________________________________\n",
      "dense_1 (Dense)              (None, 3)                 771       \n",
      "=================================================================\n",
      "Total params: 3,259,867\n",
      "Trainable params: 236,867\n",
      "Non-trainable params: 3,023,000\n",
      "_________________________________________________________________\n"
     ]
    }
   ],
   "source": [
    "####  CNN+Bi-lstm\n",
    "c_b_model=Sequential()\n",
    "c_b_model.add(embedding_layer)\n",
    "c_b_model.add(Dropout(0.2))\n",
    "c_b_model.add(Conv1D(64,3,padding='valid',activation='relu',strides=1))\n",
    "c_b_model.add(MaxPooling1D(3))\n",
    "c_b_model.add(Bidirectional(LSTM(128,dropout=0.5,recurrent_dropout=0.5)))\n",
    "c_b_model.add(Dense(3))\n",
    "c_b_model.summary()"
   ]
  },
  {
   "cell_type": "code",
   "execution_count": 14,
   "metadata": {
    "ExecuteTime": {
     "end_time": "2019-05-23T00:49:58.128943Z",
     "start_time": "2019-05-23T00:49:58.124944Z"
    }
   },
   "outputs": [],
   "source": [
    "from keras.callbacks import EarlyStopping\n",
    "early_stopping=EarlyStopping(monitor='acc',patience=20)"
   ]
  },
  {
   "cell_type": "code",
   "execution_count": null,
   "metadata": {
    "ExecuteTime": {
     "start_time": "2019-05-23T02:56:43.671Z"
    }
   },
   "outputs": [
    {
     "name": "stdout",
     "output_type": "stream",
     "text": [
      "WARNING:tensorflow:From d:\\python3.6\\lib\\site-packages\\tensorflow\\python\\ops\\math_ops.py:3066: to_int32 (from tensorflow.python.ops.math_ops) is deprecated and will be removed in a future version.\n",
      "Instructions for updating:\n",
      "Use tf.cast instead.\n",
      "Train on 40000 samples, validate on 14792 samples\n",
      "Epoch 1/200\n",
      "40000/40000 [==============================] - 71s 2ms/step - loss: 4.5656 - acc: 0.4030 - val_loss: 4.2878 - val_acc: 0.3582\n",
      "Epoch 2/200\n",
      "40000/40000 [==============================] - 63s 2ms/step - loss: 6.4262 - acc: 0.4286 - val_loss: 6.8484 - val_acc: 0.3009\n",
      "Epoch 3/200\n",
      "40000/40000 [==============================] - 63s 2ms/step - loss: 6.6343 - acc: 0.3497 - val_loss: 4.2823 - val_acc: 0.2500\n",
      "Epoch 4/200\n",
      "40000/40000 [==============================] - 66s 2ms/step - loss: 9.4646 - acc: 0.2243 - val_loss: 12.5212 - val_acc: 0.2500\n",
      "Epoch 5/200\n",
      "40000/40000 [==============================] - 63s 2ms/step - loss: 10.2836 - acc: 0.2551 - val_loss: 5.8525 - val_acc: 0.2504\n",
      "Epoch 6/200\n",
      "40000/40000 [==============================] - 63s 2ms/step - loss: nan - acc: 0.3473 - val_loss: nan - val_acc: 0.4843\n",
      "Epoch 7/200\n",
      "40000/40000 [==============================] - 63s 2ms/step - loss: nan - acc: 0.4624 - val_loss: nan - val_acc: 0.4843\n",
      "Epoch 8/200\n",
      "40000/40000 [==============================] - 46s 1ms/step - loss: nan - acc: 0.4624 - val_loss: nan - val_acc: 0.4843\n",
      "Epoch 9/200\n",
      "40000/40000 [==============================] - 33s 835us/step - loss: nan - acc: 0.4624 - val_loss: nan - val_acc: 0.4843\n",
      "Epoch 10/200\n",
      "40000/40000 [==============================] - 33s 819us/step - loss: nan - acc: 0.4624 - val_loss: nan - val_acc: 0.4843\n",
      "Epoch 11/200\n",
      "40000/40000 [==============================] - 33s 824us/step - loss: nan - acc: 0.4624 - val_loss: nan - val_acc: 0.4843\n",
      "Epoch 12/200\n",
      "40000/40000 [==============================] - 34s 838us/step - loss: nan - acc: 0.4624 - val_loss: nan - val_acc: 0.4843\n",
      "Epoch 13/200\n",
      "40000/40000 [==============================] - 34s 855us/step - loss: nan - acc: 0.4624 - val_loss: nan - val_acc: 0.4843\n",
      "Epoch 14/200\n",
      "40000/40000 [==============================] - 34s 859us/step - loss: nan - acc: 0.4624 - val_loss: nan - val_acc: 0.4843\n",
      "Epoch 15/200\n",
      "40000/40000 [==============================] - 34s 856us/step - loss: nan - acc: 0.4624 - val_loss: nan - val_acc: 0.4843\n",
      "Epoch 16/200\n",
      "40000/40000 [==============================] - 34s 862us/step - loss: nan - acc: 0.4624 - val_loss: nan - val_acc: 0.4843\n",
      "Epoch 17/200\n",
      "40000/40000 [==============================] - 35s 868us/step - loss: nan - acc: 0.4624 - val_loss: nan - val_acc: 0.4843\n",
      "Epoch 18/200\n",
      "40000/40000 [==============================] - 34s 851us/step - loss: nan - acc: 0.4624 - val_loss: nan - val_acc: 0.4843\n",
      "Epoch 19/200\n",
      "40000/40000 [==============================] - 34s 849us/step - loss: nan - acc: 0.4624 - val_loss: nan - val_acc: 0.4843\n",
      "Epoch 20/200\n",
      "40000/40000 [==============================] - 35s 863us/step - loss: nan - acc: 0.4624 - val_loss: nan - val_acc: 0.4843\n",
      "Epoch 21/200\n",
      "40000/40000 [==============================] - 34s 858us/step - loss: nan - acc: 0.4624 - val_loss: nan - val_acc: 0.4843\n",
      "Epoch 22/200\n",
      "40000/40000 [==============================] - 34s 849us/step - loss: nan - acc: 0.4624 - val_loss: nan - val_acc: 0.4843\n",
      "Epoch 23/200\n",
      "40000/40000 [==============================] - 35s 868us/step - loss: nan - acc: 0.4624 - val_loss: nan - val_acc: 0.4843\n",
      "Epoch 24/200\n",
      "40000/40000 [==============================] - 34s 854us/step - loss: nan - acc: 0.4624 - val_loss: nan - val_acc: 0.4843\n",
      "Epoch 25/200\n",
      "40000/40000 [==============================] - 35s 879us/step - loss: nan - acc: 0.4624 - val_loss: nan - val_acc: 0.4843\n",
      "Epoch 26/200\n",
      "40000/40000 [==============================] - 34s 857us/step - loss: nan - acc: 0.4624 - val_loss: nan - val_acc: 0.4843\n",
      "Epoch 27/200\n",
      "40000/40000 [==============================] - 36s 902us/step - loss: nan - acc: 0.4624 - val_loss: nan - val_acc: 0.4843\n",
      "Epoch 28/200\n",
      "40000/40000 [==============================] - 34s 847us/step - loss: nan - acc: 0.4624 - val_loss: nan - val_acc: 0.4843\n",
      "Epoch 29/200\n",
      "40000/40000 [==============================] - 34s 853us/step - loss: nan - acc: 0.4624 - val_loss: nan - val_acc: 0.4843\n",
      "Epoch 30/200\n",
      "40000/40000 [==============================] - 34s 845us/step - loss: nan - acc: 0.4624 - val_loss: nan - val_acc: 0.4843\n",
      "Epoch 31/200\n",
      "40000/40000 [==============================] - 34s 847us/step - loss: nan - acc: 0.4624 - val_loss: nan - val_acc: 0.4843\n",
      "Epoch 32/200\n",
      "40000/40000 [==============================] - 34s 862us/step - loss: nan - acc: 0.4624 - val_loss: nan - val_acc: 0.4843\n",
      "Epoch 33/200\n",
      "40000/40000 [==============================] - 33s 823us/step - loss: nan - acc: 0.4624 - val_loss: nan - val_acc: 0.4843\n",
      "Epoch 34/200\n",
      "40000/40000 [==============================] - 34s 857us/step - loss: nan - acc: 0.4624 - val_loss: nan - val_acc: 0.4843\n",
      "Epoch 35/200\n",
      "40000/40000 [==============================] - 34s 841us/step - loss: nan - acc: 0.4624 - val_loss: nan - val_acc: 0.4843\n",
      "Epoch 36/200\n",
      "40000/40000 [==============================] - 34s 860us/step - loss: nan - acc: 0.4624 - val_loss: nan - val_acc: 0.4843\n",
      "Epoch 37/200\n",
      "40000/40000 [==============================] - 34s 851us/step - loss: nan - acc: 0.4624 - val_loss: nan - val_acc: 0.4843\n",
      "Epoch 38/200\n",
      "40000/40000 [==============================] - 33s 818us/step - loss: nan - acc: 0.4624 - val_loss: nan - val_acc: 0.4843\n",
      "Epoch 39/200\n",
      "40000/40000 [==============================] - 33s 821us/step - loss: nan - acc: 0.4624 - val_loss: nan - val_acc: 0.4843\n",
      "Epoch 40/200\n",
      "40000/40000 [==============================] - 34s 838us/step - loss: nan - acc: 0.4624 - val_loss: nan - val_acc: 0.4843\n",
      "Epoch 41/200\n",
      "40000/40000 [==============================] - 34s 846us/step - loss: nan - acc: 0.4624 - val_loss: nan - val_acc: 0.4843\n",
      "Epoch 42/200\n",
      "40000/40000 [==============================] - 33s 831us/step - loss: nan - acc: 0.4624 - val_loss: nan - val_acc: 0.4843\n",
      "Epoch 43/200\n",
      "40000/40000 [==============================] - 34s 845us/step - loss: nan - acc: 0.4624 - val_loss: nan - val_acc: 0.4843\n",
      "Epoch 44/200\n",
      "40000/40000 [==============================] - 33s 823us/step - loss: nan - acc: 0.4624 - val_loss: nan - val_acc: 0.4843\n",
      "Epoch 45/200\n",
      "40000/40000 [==============================] - 33s 828us/step - loss: nan - acc: 0.4624 - val_loss: nan - val_acc: 0.4843\n",
      "Epoch 46/200\n",
      "22144/40000 [===============>..............] - ETA: 14s - loss: nan - acc: 0.4628"
     ]
    }
   ],
   "source": [
    "c_b_model.compile(loss='categorical_crossentropy',optimizer=RMSprop(),metrics=['accuracy'])\n",
    "c_b_model.fit(x_train,y_train,validation_data=[x_val,y_val],epochs=200\n",
    "              ,batch_size=128)"
   ]
  },
  {
   "cell_type": "code",
   "execution_count": null,
   "metadata": {
    "lines_to_next_cell": 2
   },
   "outputs": [],
   "source": []
  }
 ],
 "metadata": {
  "jupytext": {
   "formats": "ipynb,py:light"
  },
  "kernelspec": {
   "display_name": "Python 3",
   "language": "python",
   "name": "python3"
  },
  "language_info": {
   "codemirror_mode": {
    "name": "ipython",
    "version": 3
   },
   "file_extension": ".py",
   "mimetype": "text/x-python",
   "name": "python",
   "nbconvert_exporter": "python",
   "pygments_lexer": "ipython3",
   "version": "3.6.3"
  },
  "latex_envs": {
   "LaTeX_envs_menu_present": true,
   "autoclose": false,
   "autocomplete": true,
   "bibliofile": "biblio.bib",
   "cite_by": "apalike",
   "current_citInitial": 1,
   "eqLabelWithNumbers": true,
   "eqNumInitial": 1,
   "hotkeys": {
    "equation": "Ctrl-E",
    "itemize": "Ctrl-I"
   },
   "labels_anchors": false,
   "latex_user_defs": false,
   "report_style_numbering": false,
   "user_envs_cfg": false
  },
  "toc": {
   "base_numbering": 1,
   "nav_menu": {},
   "number_sections": true,
   "sideBar": true,
   "skip_h1_title": false,
   "title_cell": "Table of Contents",
   "title_sidebar": "Contents",
   "toc_cell": false,
   "toc_position": {},
   "toc_section_display": true,
   "toc_window_display": false
  },
  "varInspector": {
   "cols": {
    "lenName": 16,
    "lenType": 16,
    "lenVar": 40
   },
   "kernels_config": {
    "python": {
     "delete_cmd_postfix": "",
     "delete_cmd_prefix": "del ",
     "library": "var_list.py",
     "varRefreshCmd": "print(var_dic_list())"
    },
    "r": {
     "delete_cmd_postfix": ") ",
     "delete_cmd_prefix": "rm(",
     "library": "var_list.r",
     "varRefreshCmd": "cat(var_dic_list()) "
    }
   },
   "types_to_exclude": [
    "module",
    "function",
    "builtin_function_or_method",
    "instance",
    "_Feature"
   ],
   "window_display": false
  }
 },
 "nbformat": 4,
 "nbformat_minor": 2
}
