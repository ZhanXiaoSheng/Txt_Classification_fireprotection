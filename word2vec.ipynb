{
 "cells": [
  {
   "cell_type": "code",
   "execution_count": 1,
   "metadata": {
    "ExecuteTime": {
     "end_time": "2019-05-22T01:39:55.682510Z",
     "start_time": "2019-05-22T01:39:55.181799Z"
    }
   },
   "outputs": [
    {
     "name": "stderr",
     "output_type": "stream",
     "text": [
      "d:\\python3.6\\lib\\site-packages\\gensim\\utils.py:1212: UserWarning: detected Windows; aliasing chunkize to chunkize_serial\n",
      "  warnings.warn(\"detected Windows; aliasing chunkize to chunkize_serial\")\n"
     ]
    }
   ],
   "source": [
    "from gensim.models import Word2Vec"
   ]
  },
  {
   "cell_type": "raw",
   "metadata": {
    "ExecuteTime": {
     "end_time": "2019-05-21T01:58:32.274061Z",
     "start_time": "2019-05-21T01:58:32.270064Z"
    }
   },
   "source": [
    "from keras.preprocessing.text import Tokenizer\n",
    "from keras.preprocessing.sequence import pad_sequences\n",
    "from keras.utils import to_categorical"
   ]
  },
  {
   "cell_type": "raw",
   "metadata": {
    "ExecuteTime": {
     "end_time": "2019-05-21T02:00:59.020429Z",
     "start_time": "2019-05-21T02:00:57.213454Z"
    }
   },
   "source": [
    "tokenizer=Tokenizer()\n",
    "corpus=[]\n",
    "for line in open('data2.txt','r').readlines():  #ANSIC编码\n",
    "    corpus.append(line.strip())\n",
    "\n",
    "tokenizer.fit_on_texts(corpus)\n",
    "sequences=tokenizer.texts_to_sequences(corpus)\n",
    "word_index=tokenizer.word_index"
   ]
  },
  {
   "cell_type": "code",
   "execution_count": null,
   "metadata": {},
   "outputs": [],
   "source": []
  },
  {
   "cell_type": "code",
   "execution_count": null,
   "metadata": {},
   "outputs": [],
   "source": []
  },
  {
   "cell_type": "code",
   "execution_count": 2,
   "metadata": {
    "ExecuteTime": {
     "end_time": "2019-05-22T01:39:58.086124Z",
     "start_time": "2019-05-22T01:39:58.083125Z"
    }
   },
   "outputs": [],
   "source": [
    "from gensim.models import word2vec"
   ]
  },
  {
   "cell_type": "code",
   "execution_count": 3,
   "metadata": {
    "ExecuteTime": {
     "end_time": "2019-05-22T01:40:56.137824Z",
     "start_time": "2019-05-22T01:40:54.650684Z"
    }
   },
   "outputs": [],
   "source": [
    "sentences=word2vec.Text8Corpus('new_data2.txt')#utf-8\n",
    "model=Word2Vec(sentences,size=200,min_count=2)"
   ]
  },
  {
   "cell_type": "code",
   "execution_count": 4,
   "metadata": {
    "ExecuteTime": {
     "end_time": "2019-05-22T01:40:57.269190Z",
     "start_time": "2019-05-22T01:40:57.257179Z"
    }
   },
   "outputs": [
    {
     "name": "stderr",
     "output_type": "stream",
     "text": [
      "d:\\python3.6\\lib\\site-packages\\ipykernel_launcher.py:1: DeprecationWarning: Call to deprecated `similarity` (Method will be removed in 4.0.0, use self.wv.similarity() instead).\n",
      "  \"\"\"Entry point for launching an IPython kernel.\n",
      "d:\\python3.6\\lib\\site-packages\\gensim\\matutils.py:737: FutureWarning: Conversion of the second argument of issubdtype from `int` to `np.signedinteger` is deprecated. In future, it will be treated as `np.int32 == np.dtype(int).type`.\n",
      "  if np.issubdtype(vec.dtype, np.int):\n"
     ]
    },
    {
     "data": {
      "text/plain": [
       "0.70371276"
      ]
     },
     "execution_count": 4,
     "metadata": {},
     "output_type": "execute_result"
    }
   ],
   "source": [
    "model.similarity('积水','交通')"
   ]
  },
  {
   "cell_type": "code",
   "execution_count": 9,
   "metadata": {
    "ExecuteTime": {
     "end_time": "2019-05-21T01:49:03.501540Z",
     "start_time": "2019-05-21T01:49:03.496525Z"
    }
   },
   "outputs": [
    {
     "data": {
      "text/plain": [
       "<gensim.models.word2vec.Text8Corpus at 0x2bc76482dd8>"
      ]
     },
     "execution_count": 9,
     "metadata": {},
     "output_type": "execute_result"
    }
   ],
   "source": [
    "sentences"
   ]
  },
  {
   "cell_type": "code",
   "execution_count": 5,
   "metadata": {
    "ExecuteTime": {
     "end_time": "2019-05-22T01:41:07.430308Z",
     "start_time": "2019-05-22T01:41:07.301384Z"
    }
   },
   "outputs": [],
   "source": [
    "model.save('word2vec.model')"
   ]
  },
  {
   "cell_type": "raw",
   "metadata": {
    "ExecuteTime": {
     "end_time": "2019-05-21T01:52:44.723184Z",
     "start_time": "2019-05-21T01:52:44.719186Z"
    }
   },
   "source": [
    "from keras.utils import plot_model\n",
    "from keras.layers import Embedding\n",
    "import gensim"
   ]
  },
  {
   "cell_type": "raw",
   "metadata": {
    "ExecuteTime": {
     "end_time": "2019-05-21T01:53:38.147355Z",
     "start_time": "2019-05-21T01:53:38.143358Z"
    }
   },
   "source": [
    "vector_dir='word2vec.model'"
   ]
  },
  {
   "cell_type": "raw",
   "metadata": {
    "ExecuteTime": {
     "end_time": "2019-05-21T02:14:04.578697Z",
     "start_time": "2019-05-21T02:14:04.375815Z"
    }
   },
   "source": [
    "model=Word2Vec.load('word2vec.model')"
   ]
  },
  {
   "cell_type": "raw",
   "metadata": {
    "ExecuteTime": {
     "end_time": "2019-05-21T01:55:33.420171Z",
     "start_time": "2019-05-21T01:55:33.416196Z"
    }
   },
   "source": [
    "Embedding_dim=200\n",
    "max_sequence_length=100"
   ]
  },
  {
   "cell_type": "raw",
   "metadata": {
    "ExecuteTime": {
     "end_time": "2019-05-21T01:56:14.673823Z",
     "start_time": "2019-05-21T01:56:14.670842Z"
    }
   },
   "source": [
    "import numpy as np\n",
    "import pandas as pd"
   ]
  },
  {
   "cell_type": "raw",
   "metadata": {
    "ExecuteTime": {
     "end_time": "2019-05-21T02:17:30.879016Z",
     "start_time": "2019-05-21T02:17:30.872020Z"
    },
    "collapsed": true
   },
   "source": [
    "model['着火']"
   ]
  },
  {
   "cell_type": "raw",
   "metadata": {
    "ExecuteTime": {
     "end_time": "2019-05-21T02:21:58.010683Z",
     "start_time": "2019-05-21T02:21:58.006686Z"
    }
   },
   "source": [
    "embedding_matrix=np.zeros((len(word_index)+1,Embedding_dim))#初始化0向量    "
   ]
  },
  {
   "cell_type": "raw",
   "metadata": {
    "ExecuteTime": {
     "end_time": "2019-05-21T02:22:04.372012Z",
     "start_time": "2019-05-21T02:22:04.271072Z"
    }
   },
   "source": [
    "for word,i in word_index.items():\n",
    "    if word in model:\n",
    "        embedding_matrix[i]=np.asarray(model[word],dtype='float32')"
   ]
  },
  {
   "cell_type": "raw",
   "metadata": {
    "ExecuteTime": {
     "end_time": "2019-05-21T02:22:14.895241Z",
     "start_time": "2019-05-21T02:22:14.878251Z"
    }
   },
   "source": [
    "embedding_layer=Embedding(len(word_index)+1,\n",
    "                         Embedding_dim,\n",
    "                         weights=[embedding_matrix],\n",
    "                         input_length=max_sequence_length, \n",
    "                         trainable=False)   \n",
    "#嵌入层通过查表将整数（单词在词典中的位置下标）\n",
    "#转换为固定长度的向量，向量的取值是随机初始化的（embedding_initizer='uniform'）并可训练的\n",
    "#可以通过嵌入层的weights参数加入训练好的词向量，并设置为不可训练'trainable=False'"
   ]
  },
  {
   "cell_type": "code",
   "execution_count": null,
   "metadata": {},
   "outputs": [],
   "source": []
  }
 ],
 "metadata": {
  "kernelspec": {
   "display_name": "Python 3",
   "language": "python",
   "name": "python3"
  },
  "language_info": {
   "codemirror_mode": {
    "name": "ipython",
    "version": 3
   },
   "file_extension": ".py",
   "mimetype": "text/x-python",
   "name": "python",
   "nbconvert_exporter": "python",
   "pygments_lexer": "ipython3",
   "version": "3.6.3"
  },
  "latex_envs": {
   "LaTeX_envs_menu_present": true,
   "autoclose": false,
   "autocomplete": true,
   "bibliofile": "biblio.bib",
   "cite_by": "apalike",
   "current_citInitial": 1,
   "eqLabelWithNumbers": true,
   "eqNumInitial": 1,
   "hotkeys": {
    "equation": "Ctrl-E",
    "itemize": "Ctrl-I"
   },
   "labels_anchors": false,
   "latex_user_defs": false,
   "report_style_numbering": false,
   "user_envs_cfg": false
  },
  "toc": {
   "base_numbering": 1,
   "nav_menu": {},
   "number_sections": true,
   "sideBar": true,
   "skip_h1_title": false,
   "title_cell": "Table of Contents",
   "title_sidebar": "Contents",
   "toc_cell": false,
   "toc_position": {},
   "toc_section_display": true,
   "toc_window_display": false
  },
  "varInspector": {
   "cols": {
    "lenName": 16,
    "lenType": 16,
    "lenVar": 40
   },
   "kernels_config": {
    "python": {
     "delete_cmd_postfix": "",
     "delete_cmd_prefix": "del ",
     "library": "var_list.py",
     "varRefreshCmd": "print(var_dic_list())"
    },
    "r": {
     "delete_cmd_postfix": ") ",
     "delete_cmd_prefix": "rm(",
     "library": "var_list.r",
     "varRefreshCmd": "cat(var_dic_list()) "
    }
   },
   "types_to_exclude": [
    "module",
    "function",
    "builtin_function_or_method",
    "instance",
    "_Feature"
   ],
   "window_display": false
  }
 },
 "nbformat": 4,
 "nbformat_minor": 2
}
